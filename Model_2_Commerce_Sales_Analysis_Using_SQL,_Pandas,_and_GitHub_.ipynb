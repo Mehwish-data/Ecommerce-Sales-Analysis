{
  "nbformat": 4,
  "nbformat_minor": 0,
  "metadata": {
    "colab": {
      "provenance": [],
      "authorship_tag": "ABX9TyOt0Ew+zofcyovcVupfqeZU",
      "include_colab_link": true
    },
    "kernelspec": {
      "name": "python3",
      "display_name": "Python 3"
    },
    "language_info": {
      "name": "python"
    }
  },
  "cells": [
    {
      "cell_type": "markdown",
      "metadata": {
        "id": "view-in-github",
        "colab_type": "text"
      },
      "source": [
        "<a href=\"https://colab.research.google.com/github/Mehwish-data/Ecommerce-Sales-Analysis/blob/main/Model_2_Commerce_Sales_Analysis_Using_SQL%2C_Pandas%2C_and_GitHub_.ipynb\" target=\"_parent\"><img src=\"https://colab.research.google.com/assets/colab-badge.svg\" alt=\"Open In Colab\"/></a>"
      ]
    },
    {
      "cell_type": "markdown",
      "source": [
        "# Importing Essential libraries"
      ],
      "metadata": {
        "id": "Rjjh1c2CTyW5"
      }
    },
    {
      "cell_type": "code",
      "source": [
        "import pandas as pd\n",
        "import seaborn as sns\n",
        "import matplotlib.pyplot as plt\n",
        "import numpy as np\n",
        "import sqlite3\n",
        "import csv"
      ],
      "metadata": {
        "id": "FT8hsxexS3sE"
      },
      "execution_count": null,
      "outputs": []
    },
    {
      "cell_type": "markdown",
      "source": [
        "# Creating an sqlite database file\n"
      ],
      "metadata": {
        "id": "5rZB7KRJOYcf"
      }
    },
    {
      "cell_type": "code",
      "source": [
        "conn=sqlite3.connect(\"ecommerce.db\")\n",
        "cursor=conn.cursor()"
      ],
      "metadata": {
        "id": "_qzbcjz4Oeq8"
      },
      "execution_count": null,
      "outputs": []
    },
    {
      "cell_type": "markdown",
      "source": [
        "# 1: Creating Essential tables"
      ],
      "metadata": {
        "id": "RFs76BW_Og6F"
      }
    },
    {
      "cell_type": "code",
      "source": [
        "cursor.execute(\"\"\"\n",
        "CREATE TABLE IF NOT EXISTS Orders (\n",
        "    TransactionID INTEGER,\n",
        "    OrderDate TEXT,\n",
        "    CustomerID INTEGER,\n",
        "    ProductID INTEGER,\n",
        "    Quantity INTEGER,\n",
        "    TotalAmount REAL\n",
        ")\n",
        "\"\"\")\n",
        "\n",
        "cursor.execute(\"\"\"\n",
        "CREATE TABLE IF NOT EXISTS Products (\n",
        "    ProductID INTEGER,\n",
        "    ProductName TEXT,\n",
        "    Category TEXT,\n",
        "    Price REAL\n",
        ")\n",
        "\"\"\")\n",
        "\n",
        "cursor.execute(\"\"\"\n",
        "CREATE TABLE IF NOT EXISTS Customers (\n",
        "    CustomerID INTEGER,\n",
        "    Name TEXT,\n",
        "    Region TEXT,\n",
        "    Segment TEXT\n",
        ")\n",
        "\"\"\")\n",
        "\n",
        "cursor.execute(\"\"\"\n",
        "CREATE TABLE IF NOT EXISTS Sales (\n",
        "    OrderID INTEGER,\n",
        "    Revenue REAL,\n",
        "    Discounts REAL,\n",
        "    Taxes REAL\n",
        ")\n",
        "\"\"\")\n",
        "\n",
        "conn.commit()\n"
      ],
      "metadata": {
        "id": "P3sCQTGxOhyo"
      },
      "execution_count": null,
      "outputs": []
    },
    {
      "cell_type": "markdown",
      "source": [
        "# **2: [Download Dataset ](https://)**"
      ],
      "metadata": {
        "id": "vG766XC0P_cX"
      }
    },
    {
      "cell_type": "code",
      "source": [
        "import pandas as pd\n",
        "\n",
        "Orders = pd.read_csv(\"https://raw.githubusercontent.com/Mehwish-data/Ecommerce-Sales-Analysis/main/Dataset/Orders_Large.csv\")\n",
        "Products = pd.read_csv(\"https://raw.githubusercontent.com/Mehwish-data/Ecommerce-Sales-Analysis/main/Dataset/Products_Large.csv\")\n",
        "Customers = pd.read_csv(\"https://raw.githubusercontent.com/Mehwish-data/Ecommerce-Sales-Analysis/main/Dataset/Customers_Large.csv\")\n",
        "Sales = pd.read_csv(\"https://raw.githubusercontent.com/Mehwish-data/Ecommerce-Sales-Analysis/main/Dataset/Sales_Large.csv\")\n"
      ],
      "metadata": {
        "id": "4dGAgeMHQIaA"
      },
      "execution_count": null,
      "outputs": []
    },
    {
      "cell_type": "markdown",
      "source": [
        "# 3: Convert csv to sql tables"
      ],
      "metadata": {
        "id": "-K16AduaSgz3"
      }
    },
    {
      "cell_type": "code",
      "source": [
        "Orders.to_sql(\"Orders\",conn, if_exists=\"replace\",index=False)\n",
        "Products.to_sql(\"Products\",conn, if_exists=\"replace\",index=False)\n",
        "Customers.to_sql(\"Customers\",conn, if_exists=\"replace\",index=False)\n",
        "Sales.to_sql(\"Sales\",conn, if_exists=\"replace\",index=False)\n",
        "print(\"Data sucessfuly loaded into sqlite database\")"
      ],
      "metadata": {
        "colab": {
          "base_uri": "https://localhost:8080/"
        },
        "id": "751h4J3fSjst",
        "outputId": "98a566b0-6ca5-4700-d64a-c57ce180c83a"
      },
      "execution_count": null,
      "outputs": [
        {
          "output_type": "stream",
          "name": "stdout",
          "text": [
            "Data sucessfuly loaded into sqlite database\n"
          ]
        }
      ]
    },
    {
      "cell_type": "markdown",
      "source": [
        "## Varify dataset"
      ],
      "metadata": {
        "id": "NmLnOuF3S0S8"
      }
    },
    {
      "cell_type": "code",
      "source": [
        "Orders=pd.read_sql(\"select * from Orders\",conn)\n",
        "print(Orders.head())"
      ],
      "metadata": {
        "colab": {
          "base_uri": "https://localhost:8080/"
        },
        "id": "5XtsKef2S1qI",
        "outputId": "9d1bcda8-b769-41b6-b546-d96699d7b861"
      },
      "execution_count": null,
      "outputs": [
        {
          "output_type": "stream",
          "name": "stdout",
          "text": [
            "   TransactionID   OrderDate  CustomerID  ProductID  Quantity  TotalAmount\n",
            "0           1000  2023-02-11           6        212         4          426\n",
            "1           1001  2024-06-09          22        226         8          184\n",
            "2           1002  2022-12-11          31        231         5          880\n",
            "3           1003  2022-12-18          23        227        10          928\n",
            "4           1004  2024-04-11          42        215         7          517\n"
          ]
        }
      ]
    },
    {
      "cell_type": "code",
      "source": [
        "Products=pd.read_sql(\"select * from Products\",conn)\n",
        "print(Products.head())"
      ],
      "metadata": {
        "colab": {
          "base_uri": "https://localhost:8080/"
        },
        "id": "AZLn02OdS-j1",
        "outputId": "a68a72de-7280-464e-9087-9bbfff197b82"
      },
      "execution_count": null,
      "outputs": [
        {
          "output_type": "stream",
          "name": "stdout",
          "text": [
            "   ProductID     ProductName         Category  Price\n",
            "0        200          Report            Books     89\n",
            "1        201           Shake      Electronics    226\n",
            "2        202           Skill            Books    494\n",
            "3        203            Into  Home Appliances    160\n",
            "4        204  Responsibility            Books    479\n"
          ]
        }
      ]
    },
    {
      "cell_type": "code",
      "source": [
        "Customers=pd.read_sql(\"select * from Customers\",conn)\n",
        "print(Customers.head())"
      ],
      "metadata": {
        "colab": {
          "base_uri": "https://localhost:8080/"
        },
        "id": "sVBf1k5gTGRN",
        "outputId": "ecfb8cc5-1747-48cd-9772-802a8292cfc1"
      },
      "execution_count": null,
      "outputs": [
        {
          "output_type": "stream",
          "name": "stdout",
          "text": [
            "   CustomerID               Name   Region    Segment\n",
            "0           1  Christina Harrell     East  Corporate\n",
            "1           2      David Charles     East  Corporate\n",
            "2           3      Cheryl Harris     East  Corporate\n",
            "3           4       Cameron King  Central  Corporate\n",
            "4           5          Tanya Kim     West  Corporate\n"
          ]
        }
      ]
    },
    {
      "cell_type": "code",
      "source": [
        "Sales=pd.read_sql(\"select * from Sales\",conn)\n",
        "print(Sales.head())"
      ],
      "metadata": {
        "colab": {
          "base_uri": "https://localhost:8080/"
        },
        "id": "KV48ANKPTH7G",
        "outputId": "e620bd97-0095-4164-e04b-6e3251701b24"
      },
      "execution_count": null,
      "outputs": [
        {
          "output_type": "stream",
          "name": "stdout",
          "text": [
            "   OrderID  Revenue  Discounts  Taxes\n",
            "0     1000     1755         30     65\n",
            "1     1001     1727         76    101\n",
            "2     1002     1834         25     23\n",
            "3     1003      896         94    123\n",
            "4     1004     1868         51     63\n"
          ]
        }
      ]
    },
    {
      "cell_type": "markdown",
      "source": [
        "# Creating one table by joining all tables"
      ],
      "metadata": {
        "id": "vQT_jfSMTumY"
      }
    },
    {
      "cell_type": "code",
      "source": [
        "# Create 'customorder' table by joining Customers and Orders\n",
        "cursor.execute(\"\"\"\n",
        "    CREATE TABLE IF NOT EXISTS customorder AS\n",
        "    SELECT\n",
        "        c.CustomerID,\n",
        "        c.Name,\n",
        "        c.Region,\n",
        "        c.Segment,\n",
        "        o.TransactionID,\n",
        "        o.OrderDate,\n",
        "        o.ProductID,\n",
        "        o.Quantity,\n",
        "        o.TotalAmount\n",
        "    FROM Customers c\n",
        "    JOIN Orders o ON c.CustomerID = o.CustomerID;\n",
        "\"\"\")\n",
        "\n",
        "# Create 'procustomorder' table by joining customorder with Products\n",
        "cursor.execute(\"\"\"\n",
        "    CREATE TABLE IF NOT EXISTS procustomorder AS\n",
        "    SELECT\n",
        "        p.ProductID,\n",
        "        p.ProductName,\n",
        "        p.Category,\n",
        "        p.Price,\n",
        "        co.CustomerID,\n",
        "        co.Name,\n",
        "        co.Region,\n",
        "        co.Segment,\n",
        "        co.TransactionID,\n",
        "        co.OrderDate,\n",
        "        co.Quantity,\n",
        "        co.TotalAmount\n",
        "    FROM Products p\n",
        "    JOIN customorder co ON p.ProductID = co.ProductID;\n",
        "\"\"\")\n",
        "\n",
        "# Create 'sales_data' table by joining procustomorder with Sales\n",
        "cursor.execute(\"\"\"\n",
        "    CREATE TABLE IF NOT EXISTS sales_data AS\n",
        "    SELECT\n",
        "        s.OrderID,\n",
        "        s.Revenue,\n",
        "        s.Discounts,\n",
        "        s.Taxes,\n",
        "        co.ProductID,\n",
        "        co.ProductName,\n",
        "        co.Category,\n",
        "        co.Price,\n",
        "        co.CustomerID,\n",
        "        co.Name,\n",
        "        co.Region,\n",
        "        co.Segment,\n",
        "        co.OrderDate,\n",
        "        co.Quantity,\n",
        "        co.TotalAmount\n",
        "    FROM Sales s\n",
        "    JOIN procustomorder co ON s.OrderID = co.TransactionID;\n",
        "\"\"\")\n",
        "\n",
        "# Commit all changes to the database\n",
        "conn.commit()\n"
      ],
      "metadata": {
        "id": "ut_6n-_fTvXQ"
      },
      "execution_count": null,
      "outputs": []
    },
    {
      "cell_type": "markdown",
      "source": [
        "## **Veryfy table created or not **"
      ],
      "metadata": {
        "id": "K2qX6BaKUOou"
      }
    },
    {
      "cell_type": "code",
      "source": [
        "# Reconnect to the SQLite database\n",
        "conn = sqlite3.connect(\"ecommerce.db\")\n",
        "sales_data = pd.read_sql(\"SELECT * FROM sales_data\", conn)\n",
        "print(sales_data.head())"
      ],
      "metadata": {
        "colab": {
          "base_uri": "https://localhost:8080/"
        },
        "id": "ddZVao2TUPTg",
        "outputId": "952ff710-7f96-4c89-85b5-b73252586dce"
      },
      "execution_count": null,
      "outputs": [
        {
          "output_type": "stream",
          "name": "stdout",
          "text": [
            "   OrderID  Revenue  Discounts  Taxes  ProductID ProductName         Category  \\\n",
            "0     1000     1755         30     65        212        Mind      Accessories   \n",
            "1     1001     1727         76    101        226      Suffer      Accessories   \n",
            "2     1002     1834         25     23        231        Role  Home Appliances   \n",
            "3     1003      896         94    123        227       North  Home Appliances   \n",
            "4     1004     1868         51     63        215        Both      Accessories   \n",
            "\n",
            "   Price  CustomerID          Name   Region    Segment   OrderDate  Quantity  \\\n",
            "0     67           6  Lauren Walls     West  Wholesale  2023-02-11         4   \n",
            "1    179          22     Lori Cole  Central  Wholesale  2024-06-09         8   \n",
            "2     82          31   Sherri Knox    South  Wholesale  2022-12-11         5   \n",
            "3    221          23    Randy Duke    North     Retail  2022-12-18        10   \n",
            "4    334          42   Zachary Ray  Central  Corporate  2024-04-11         7   \n",
            "\n",
            "   TotalAmount  \n",
            "0          426  \n",
            "1          184  \n",
            "2          880  \n",
            "3          928  \n",
            "4          517  \n"
          ]
        }
      ]
    },
    {
      "cell_type": "markdown",
      "source": [
        "# 2. SQL Tasks\n",
        "# 1:Total sales revenue by month."
      ],
      "metadata": {
        "id": "q5R2qx7CUR15"
      }
    },
    {
      "cell_type": "code",
      "source": [
        "# SQL query to get total monthly revenue\n",
        "query = \"\"\"\n",
        "SELECT\n",
        "    strftime('%Y-%m', OrderDate) AS month,\n",
        "    SUM(Revenue) AS TotalRevenue\n",
        "FROM sales_data\n",
        "GROUP BY month\n",
        "ORDER BY month ASC;\n",
        "\"\"\"\n",
        "\n",
        "# Execute the query\n",
        "cursor.execute(query)\n",
        "sales_revenue_by_month = cursor.fetchall()\n",
        "\n",
        "# Write the results to a CSV file\n",
        "with open('revenue_by_month.csv', 'w', newline='') as csvfile:\n",
        "    csv_writer = csv.writer(csvfile)\n",
        "    # Write header\n",
        "    csv_writer.writerow(['Month', 'TotalRevenue'])\n",
        "    # Write data rows\n",
        "    csv_writer.writerows(sales_revenue_by_month)\n",
        "\n",
        "# Read the CSV into a DataFrame\n",
        "data1 = pd.read_csv('revenue_by_month.csv')\n",
        "print(data1)\n"
      ],
      "metadata": {
        "colab": {
          "base_uri": "https://localhost:8080/"
        },
        "id": "dyOkNMkGUSgz",
        "outputId": "3990e34d-9022-40e6-c581-5a90f7adfd7f"
      },
      "execution_count": null,
      "outputs": [
        {
          "output_type": "stream",
          "name": "stdout",
          "text": [
            "      Month  TotalRevenue\n",
            "0   2022-11          9336\n",
            "1   2022-12         26988\n",
            "2   2023-01         20160\n",
            "3   2023-02         17371\n",
            "4   2023-03         19860\n",
            "5   2023-04         21539\n",
            "6   2023-05         24469\n",
            "7   2023-06         19051\n",
            "8   2023-07         27406\n",
            "9   2023-08         23560\n",
            "10  2023-09         23331\n",
            "11  2023-10         27643\n",
            "12  2023-11         19087\n",
            "13  2023-12         19243\n",
            "14  2024-01         26647\n",
            "15  2024-02         14664\n",
            "16  2024-03         20148\n",
            "17  2024-04         23562\n",
            "18  2024-05         30720\n",
            "19  2024-06         20219\n",
            "20  2024-07         30688\n",
            "21  2024-08         23530\n",
            "22  2024-09         21056\n",
            "23  2024-10         22526\n",
            "24  2024-11         11845\n"
          ]
        }
      ]
    },
    {
      "cell_type": "markdown",
      "source": [
        "# 2:Top 5 best-selling products."
      ],
      "metadata": {
        "id": "W8DFlQC3V0lk"
      }
    },
    {
      "cell_type": "code",
      "source": [
        "# SQL query to get top 5 best-selling products by revenue\n",
        "query = \"\"\"\n",
        "SELECT\n",
        "    ProductName,\n",
        "    SUM(Revenue) AS TopBestSellingProduct\n",
        "FROM sales_data\n",
        "GROUP BY ProductName\n",
        "ORDER BY TopBestSellingProduct DESC\n",
        "LIMIT 5;\n",
        "\"\"\"\n",
        "\n",
        "# Execute the query\n",
        "cursor.execute(query)\n",
        "top_best_selling_product = cursor.fetchall()\n",
        "\n",
        "# Write the results to a CSV file\n",
        "with open('best_selling_product.csv', 'w', newline='') as csvfile:\n",
        "    csv_writer = csv.writer(csvfile)\n",
        "    # Write header\n",
        "    csv_writer.writerow(['ProductName', 'TopBestSellingProduct'])\n",
        "    # Write data rows\n",
        "    csv_writer.writerows(top_best_selling_product)\n",
        "\n",
        "# Read the CSV into a DataFrame\n",
        "data2 = pd.read_csv('best_selling_product.csv')\n",
        "print(data2)\n"
      ],
      "metadata": {
        "colab": {
          "base_uri": "https://localhost:8080/"
        },
        "id": "-XM3-CRaV1PA",
        "outputId": "3cbd0287-dc45-4c1b-e07b-eaac1f3f553e"
      },
      "execution_count": null,
      "outputs": [
        {
          "output_type": "stream",
          "name": "stdout",
          "text": [
            "  ProductName  TopBestSellingProduct\n",
            "0      Notice                  28515\n",
            "1        Both                  19651\n",
            "2        Hope                  17570\n",
            "3        Role                  16135\n",
            "4      Answer                  15646\n"
          ]
        }
      ]
    },
    {
      "cell_type": "markdown",
      "source": [
        "# 3:Revenue contribution by customer segments."
      ],
      "metadata": {
        "id": "OpqHbGJ6ocgO"
      }
    },
    {
      "cell_type": "code",
      "source": [
        "# SQL query to get revenue by segment\n",
        "query = \"\"\"\n",
        "SELECT\n",
        "    Segment,\n",
        "    SUM(Revenue) AS RevenueContribution\n",
        "FROM sales_data\n",
        "GROUP BY Segment\n",
        "ORDER BY RevenueContribution DESC;\n",
        "\"\"\"\n",
        "\n",
        "# Execute the query\n",
        "cursor.execute(query)\n",
        "revenue_contribution_by_segment = cursor.fetchall()\n",
        "\n",
        "# Write the results to a CSV file\n",
        "with open('revenue_by_segment.csv', 'w', newline='') as csvfile:\n",
        "    csv_writer = csv.writer(csvfile)\n",
        "    # Write header\n",
        "    csv_writer.writerow(['Segment', 'RevenueContribution'])\n",
        "    # Write data rows\n",
        "    csv_writer.writerows(revenue_contribution_by_segment)\n",
        "\n",
        "# Read the CSV into a DataFrame\n",
        "data3 = pd.read_csv('revenue_by_segment.csv')\n",
        "print(data3)\n"
      ],
      "metadata": {
        "colab": {
          "base_uri": "https://localhost:8080/"
        },
        "id": "90OC06LIodRb",
        "outputId": "d26a2a66-6bea-4757-8b67-c1e822a6e107"
      },
      "execution_count": null,
      "outputs": [
        {
          "output_type": "stream",
          "name": "stdout",
          "text": [
            "     Segment  RevenueContribution\n",
            "0  Corporate               249656\n",
            "1  Wholesale               158455\n",
            "2     Retail               136538\n"
          ]
        }
      ]
    },
    {
      "cell_type": "markdown",
      "source": [
        "# 4. Identify the top regions for sales"
      ],
      "metadata": {
        "id": "JJUsFJKmooPc"
      }
    },
    {
      "cell_type": "code",
      "source": [
        "# SQL query to calculate revenue contribution by region\n",
        "query = \"\"\"SELECT Region, SUM(Revenue) AS TotalRevenue\n",
        "FROM sales_data\n",
        "GROUP BY Region\n",
        "ORDER BY TotalRevenue DESC;\"\"\"\n",
        "\n",
        "# Execute the query\n",
        "cursor.execute(query)\n",
        "revenue_contribution_by_region = cursor.fetchall()\n",
        "\n",
        "# Write the result to a CSV file\n",
        "with open('revenue_by_region.csv', 'w', newline='') as csvfile:\n",
        "    csv_writer = csv.writer(csvfile)\n",
        "    # Write header\n",
        "    csv_writer.writerow(['Region', 'TotalRevenue'])\n",
        "    # Write data rows\n",
        "    csv_writer.writerows(revenue_contribution_by_region)\n",
        "\n",
        "# Load the CSV into a DataFrame and display it\n",
        "data4 = pd.read_csv('revenue_by_region.csv')\n",
        "print(data4)\n"
      ],
      "metadata": {
        "colab": {
          "base_uri": "https://localhost:8080/"
        },
        "id": "ZVCig3KEopnJ",
        "outputId": "66a91222-92a5-4687-8103-3052f1d6e5d8"
      },
      "execution_count": null,
      "outputs": [
        {
          "output_type": "stream",
          "name": "stdout",
          "text": [
            "    Region  TotalRevenue\n",
            "0     West        155950\n",
            "1  Central        127614\n",
            "2     East        117258\n",
            "3    North         89733\n",
            "4    South         54094\n"
          ]
        }
      ]
    },
    {
      "cell_type": "markdown",
      "source": [
        "# 5. EDA and Data Visualization"
      ],
      "metadata": {
        "id": "P-_jdsGfpDIv"
      }
    },
    {
      "cell_type": "markdown",
      "source": [
        "# 3. Pandas Tasks\n",
        "# Objective: Clean data, perform EDA, and create new columns.\n",
        "Export the SQL query results into CSV files.\n",
        "Steps:\n",
        "# Clean Data:\n",
        "Handle missing values.\n",
        "\n",
        "Remove duplicate rows.\n",
        "## EDA:\n",
        "Analyze sales trends,\n",
        "\n",
        "customer behaviors, and product performance.\n",
        "Feature Engineering:\n",
        "Create new columns like revenue per product or customer lifetime value.\n"
      ],
      "metadata": {
        "id": "Xswe_0J5pKGp"
      }
    },
    {
      "cell_type": "code",
      "source": [
        "# Connect to the SQLite database\n",
        "conn = sqlite3.connect(\"ecommerce.db\")\n",
        "\n",
        "# Load the sales_data table into a DataFrame\n",
        "sales_data = pd.read_sql_query(\"SELECT * FROM sales_data\", conn)\n",
        "\n",
        "# Specify the output CSV file name\n",
        "csv_file_name = \"sales_data.csv\"\n",
        "\n",
        "# Export the DataFrame to a CSV file\n",
        "sales_data.to_csv(csv_file_name, index=False)\n",
        "\n",
        "print(f\" Sales data successfully exported to '{csv_file_name}'\")\n"
      ],
      "metadata": {
        "colab": {
          "base_uri": "https://localhost:8080/"
        },
        "id": "u36wX0YOpEX5",
        "outputId": "3318b6ba-6099-4895-8a98-2584e919b834"
      },
      "execution_count": null,
      "outputs": [
        {
          "output_type": "stream",
          "name": "stdout",
          "text": [
            " Sales data successfully exported to 'sales_data.csv'\n"
          ]
        }
      ]
    },
    {
      "cell_type": "markdown",
      "source": [
        "# displaying DataSet"
      ],
      "metadata": {
        "id": "I3zuGFWUp5qi"
      }
    },
    {
      "cell_type": "code",
      "source": [
        "df=pd.read_csv(\"sales_data.csv\")\n",
        "df.head(5)"
      ],
      "metadata": {
        "colab": {
          "base_uri": "https://localhost:8080/",
          "height": 313
        },
        "id": "w7NrCtweqiNK",
        "outputId": "e7ad69be-dbbc-4324-a5fd-a13d95e928cb"
      },
      "execution_count": null,
      "outputs": [
        {
          "output_type": "execute_result",
          "data": {
            "text/plain": [
              "   OrderID  Revenue  Discounts  Taxes  ProductID ProductName         Category  \\\n",
              "0     1000     1755         30     65        212        Mind      Accessories   \n",
              "1     1001     1727         76    101        226      Suffer      Accessories   \n",
              "2     1002     1834         25     23        231        Role  Home Appliances   \n",
              "3     1003      896         94    123        227       North  Home Appliances   \n",
              "4     1004     1868         51     63        215        Both      Accessories   \n",
              "\n",
              "   Price  CustomerID          Name   Region    Segment   OrderDate  Quantity  \\\n",
              "0     67           6  Lauren Walls     West  Wholesale  2023-02-11         4   \n",
              "1    179          22     Lori Cole  Central  Wholesale  2024-06-09         8   \n",
              "2     82          31   Sherri Knox    South  Wholesale  2022-12-11         5   \n",
              "3    221          23    Randy Duke    North     Retail  2022-12-18        10   \n",
              "4    334          42   Zachary Ray  Central  Corporate  2024-04-11         7   \n",
              "\n",
              "   TotalAmount  \n",
              "0          426  \n",
              "1          184  \n",
              "2          880  \n",
              "3          928  \n",
              "4          517  "
            ],
            "text/html": [
              "\n",
              "  <div id=\"df-139661a3-f95d-4f05-87f5-20309c513dce\" class=\"colab-df-container\">\n",
              "    <div>\n",
              "<style scoped>\n",
              "    .dataframe tbody tr th:only-of-type {\n",
              "        vertical-align: middle;\n",
              "    }\n",
              "\n",
              "    .dataframe tbody tr th {\n",
              "        vertical-align: top;\n",
              "    }\n",
              "\n",
              "    .dataframe thead th {\n",
              "        text-align: right;\n",
              "    }\n",
              "</style>\n",
              "<table border=\"1\" class=\"dataframe\">\n",
              "  <thead>\n",
              "    <tr style=\"text-align: right;\">\n",
              "      <th></th>\n",
              "      <th>OrderID</th>\n",
              "      <th>Revenue</th>\n",
              "      <th>Discounts</th>\n",
              "      <th>Taxes</th>\n",
              "      <th>ProductID</th>\n",
              "      <th>ProductName</th>\n",
              "      <th>Category</th>\n",
              "      <th>Price</th>\n",
              "      <th>CustomerID</th>\n",
              "      <th>Name</th>\n",
              "      <th>Region</th>\n",
              "      <th>Segment</th>\n",
              "      <th>OrderDate</th>\n",
              "      <th>Quantity</th>\n",
              "      <th>TotalAmount</th>\n",
              "    </tr>\n",
              "  </thead>\n",
              "  <tbody>\n",
              "    <tr>\n",
              "      <th>0</th>\n",
              "      <td>1000</td>\n",
              "      <td>1755</td>\n",
              "      <td>30</td>\n",
              "      <td>65</td>\n",
              "      <td>212</td>\n",
              "      <td>Mind</td>\n",
              "      <td>Accessories</td>\n",
              "      <td>67</td>\n",
              "      <td>6</td>\n",
              "      <td>Lauren Walls</td>\n",
              "      <td>West</td>\n",
              "      <td>Wholesale</td>\n",
              "      <td>2023-02-11</td>\n",
              "      <td>4</td>\n",
              "      <td>426</td>\n",
              "    </tr>\n",
              "    <tr>\n",
              "      <th>1</th>\n",
              "      <td>1001</td>\n",
              "      <td>1727</td>\n",
              "      <td>76</td>\n",
              "      <td>101</td>\n",
              "      <td>226</td>\n",
              "      <td>Suffer</td>\n",
              "      <td>Accessories</td>\n",
              "      <td>179</td>\n",
              "      <td>22</td>\n",
              "      <td>Lori Cole</td>\n",
              "      <td>Central</td>\n",
              "      <td>Wholesale</td>\n",
              "      <td>2024-06-09</td>\n",
              "      <td>8</td>\n",
              "      <td>184</td>\n",
              "    </tr>\n",
              "    <tr>\n",
              "      <th>2</th>\n",
              "      <td>1002</td>\n",
              "      <td>1834</td>\n",
              "      <td>25</td>\n",
              "      <td>23</td>\n",
              "      <td>231</td>\n",
              "      <td>Role</td>\n",
              "      <td>Home Appliances</td>\n",
              "      <td>82</td>\n",
              "      <td>31</td>\n",
              "      <td>Sherri Knox</td>\n",
              "      <td>South</td>\n",
              "      <td>Wholesale</td>\n",
              "      <td>2022-12-11</td>\n",
              "      <td>5</td>\n",
              "      <td>880</td>\n",
              "    </tr>\n",
              "    <tr>\n",
              "      <th>3</th>\n",
              "      <td>1003</td>\n",
              "      <td>896</td>\n",
              "      <td>94</td>\n",
              "      <td>123</td>\n",
              "      <td>227</td>\n",
              "      <td>North</td>\n",
              "      <td>Home Appliances</td>\n",
              "      <td>221</td>\n",
              "      <td>23</td>\n",
              "      <td>Randy Duke</td>\n",
              "      <td>North</td>\n",
              "      <td>Retail</td>\n",
              "      <td>2022-12-18</td>\n",
              "      <td>10</td>\n",
              "      <td>928</td>\n",
              "    </tr>\n",
              "    <tr>\n",
              "      <th>4</th>\n",
              "      <td>1004</td>\n",
              "      <td>1868</td>\n",
              "      <td>51</td>\n",
              "      <td>63</td>\n",
              "      <td>215</td>\n",
              "      <td>Both</td>\n",
              "      <td>Accessories</td>\n",
              "      <td>334</td>\n",
              "      <td>42</td>\n",
              "      <td>Zachary Ray</td>\n",
              "      <td>Central</td>\n",
              "      <td>Corporate</td>\n",
              "      <td>2024-04-11</td>\n",
              "      <td>7</td>\n",
              "      <td>517</td>\n",
              "    </tr>\n",
              "  </tbody>\n",
              "</table>\n",
              "</div>\n",
              "    <div class=\"colab-df-buttons\">\n",
              "\n",
              "  <div class=\"colab-df-container\">\n",
              "    <button class=\"colab-df-convert\" onclick=\"convertToInteractive('df-139661a3-f95d-4f05-87f5-20309c513dce')\"\n",
              "            title=\"Convert this dataframe to an interactive table.\"\n",
              "            style=\"display:none;\">\n",
              "\n",
              "  <svg xmlns=\"http://www.w3.org/2000/svg\" height=\"24px\" viewBox=\"0 -960 960 960\">\n",
              "    <path d=\"M120-120v-720h720v720H120Zm60-500h600v-160H180v160Zm220 220h160v-160H400v160Zm0 220h160v-160H400v160ZM180-400h160v-160H180v160Zm440 0h160v-160H620v160ZM180-180h160v-160H180v160Zm440 0h160v-160H620v160Z\"/>\n",
              "  </svg>\n",
              "    </button>\n",
              "\n",
              "  <style>\n",
              "    .colab-df-container {\n",
              "      display:flex;\n",
              "      gap: 12px;\n",
              "    }\n",
              "\n",
              "    .colab-df-convert {\n",
              "      background-color: #E8F0FE;\n",
              "      border: none;\n",
              "      border-radius: 50%;\n",
              "      cursor: pointer;\n",
              "      display: none;\n",
              "      fill: #1967D2;\n",
              "      height: 32px;\n",
              "      padding: 0 0 0 0;\n",
              "      width: 32px;\n",
              "    }\n",
              "\n",
              "    .colab-df-convert:hover {\n",
              "      background-color: #E2EBFA;\n",
              "      box-shadow: 0px 1px 2px rgba(60, 64, 67, 0.3), 0px 1px 3px 1px rgba(60, 64, 67, 0.15);\n",
              "      fill: #174EA6;\n",
              "    }\n",
              "\n",
              "    .colab-df-buttons div {\n",
              "      margin-bottom: 4px;\n",
              "    }\n",
              "\n",
              "    [theme=dark] .colab-df-convert {\n",
              "      background-color: #3B4455;\n",
              "      fill: #D2E3FC;\n",
              "    }\n",
              "\n",
              "    [theme=dark] .colab-df-convert:hover {\n",
              "      background-color: #434B5C;\n",
              "      box-shadow: 0px 1px 3px 1px rgba(0, 0, 0, 0.15);\n",
              "      filter: drop-shadow(0px 1px 2px rgba(0, 0, 0, 0.3));\n",
              "      fill: #FFFFFF;\n",
              "    }\n",
              "  </style>\n",
              "\n",
              "    <script>\n",
              "      const buttonEl =\n",
              "        document.querySelector('#df-139661a3-f95d-4f05-87f5-20309c513dce button.colab-df-convert');\n",
              "      buttonEl.style.display =\n",
              "        google.colab.kernel.accessAllowed ? 'block' : 'none';\n",
              "\n",
              "      async function convertToInteractive(key) {\n",
              "        const element = document.querySelector('#df-139661a3-f95d-4f05-87f5-20309c513dce');\n",
              "        const dataTable =\n",
              "          await google.colab.kernel.invokeFunction('convertToInteractive',\n",
              "                                                    [key], {});\n",
              "        if (!dataTable) return;\n",
              "\n",
              "        const docLinkHtml = 'Like what you see? Visit the ' +\n",
              "          '<a target=\"_blank\" href=https://colab.research.google.com/notebooks/data_table.ipynb>data table notebook</a>'\n",
              "          + ' to learn more about interactive tables.';\n",
              "        element.innerHTML = '';\n",
              "        dataTable['output_type'] = 'display_data';\n",
              "        await google.colab.output.renderOutput(dataTable, element);\n",
              "        const docLink = document.createElement('div');\n",
              "        docLink.innerHTML = docLinkHtml;\n",
              "        element.appendChild(docLink);\n",
              "      }\n",
              "    </script>\n",
              "  </div>\n",
              "\n",
              "\n",
              "    <div id=\"df-bb9059be-cc0e-49ae-ae22-07f5e8a8a479\">\n",
              "      <button class=\"colab-df-quickchart\" onclick=\"quickchart('df-bb9059be-cc0e-49ae-ae22-07f5e8a8a479')\"\n",
              "                title=\"Suggest charts\"\n",
              "                style=\"display:none;\">\n",
              "\n",
              "<svg xmlns=\"http://www.w3.org/2000/svg\" height=\"24px\"viewBox=\"0 0 24 24\"\n",
              "     width=\"24px\">\n",
              "    <g>\n",
              "        <path d=\"M19 3H5c-1.1 0-2 .9-2 2v14c0 1.1.9 2 2 2h14c1.1 0 2-.9 2-2V5c0-1.1-.9-2-2-2zM9 17H7v-7h2v7zm4 0h-2V7h2v10zm4 0h-2v-4h2v4z\"/>\n",
              "    </g>\n",
              "</svg>\n",
              "      </button>\n",
              "\n",
              "<style>\n",
              "  .colab-df-quickchart {\n",
              "      --bg-color: #E8F0FE;\n",
              "      --fill-color: #1967D2;\n",
              "      --hover-bg-color: #E2EBFA;\n",
              "      --hover-fill-color: #174EA6;\n",
              "      --disabled-fill-color: #AAA;\n",
              "      --disabled-bg-color: #DDD;\n",
              "  }\n",
              "\n",
              "  [theme=dark] .colab-df-quickchart {\n",
              "      --bg-color: #3B4455;\n",
              "      --fill-color: #D2E3FC;\n",
              "      --hover-bg-color: #434B5C;\n",
              "      --hover-fill-color: #FFFFFF;\n",
              "      --disabled-bg-color: #3B4455;\n",
              "      --disabled-fill-color: #666;\n",
              "  }\n",
              "\n",
              "  .colab-df-quickchart {\n",
              "    background-color: var(--bg-color);\n",
              "    border: none;\n",
              "    border-radius: 50%;\n",
              "    cursor: pointer;\n",
              "    display: none;\n",
              "    fill: var(--fill-color);\n",
              "    height: 32px;\n",
              "    padding: 0;\n",
              "    width: 32px;\n",
              "  }\n",
              "\n",
              "  .colab-df-quickchart:hover {\n",
              "    background-color: var(--hover-bg-color);\n",
              "    box-shadow: 0 1px 2px rgba(60, 64, 67, 0.3), 0 1px 3px 1px rgba(60, 64, 67, 0.15);\n",
              "    fill: var(--button-hover-fill-color);\n",
              "  }\n",
              "\n",
              "  .colab-df-quickchart-complete:disabled,\n",
              "  .colab-df-quickchart-complete:disabled:hover {\n",
              "    background-color: var(--disabled-bg-color);\n",
              "    fill: var(--disabled-fill-color);\n",
              "    box-shadow: none;\n",
              "  }\n",
              "\n",
              "  .colab-df-spinner {\n",
              "    border: 2px solid var(--fill-color);\n",
              "    border-color: transparent;\n",
              "    border-bottom-color: var(--fill-color);\n",
              "    animation:\n",
              "      spin 1s steps(1) infinite;\n",
              "  }\n",
              "\n",
              "  @keyframes spin {\n",
              "    0% {\n",
              "      border-color: transparent;\n",
              "      border-bottom-color: var(--fill-color);\n",
              "      border-left-color: var(--fill-color);\n",
              "    }\n",
              "    20% {\n",
              "      border-color: transparent;\n",
              "      border-left-color: var(--fill-color);\n",
              "      border-top-color: var(--fill-color);\n",
              "    }\n",
              "    30% {\n",
              "      border-color: transparent;\n",
              "      border-left-color: var(--fill-color);\n",
              "      border-top-color: var(--fill-color);\n",
              "      border-right-color: var(--fill-color);\n",
              "    }\n",
              "    40% {\n",
              "      border-color: transparent;\n",
              "      border-right-color: var(--fill-color);\n",
              "      border-top-color: var(--fill-color);\n",
              "    }\n",
              "    60% {\n",
              "      border-color: transparent;\n",
              "      border-right-color: var(--fill-color);\n",
              "    }\n",
              "    80% {\n",
              "      border-color: transparent;\n",
              "      border-right-color: var(--fill-color);\n",
              "      border-bottom-color: var(--fill-color);\n",
              "    }\n",
              "    90% {\n",
              "      border-color: transparent;\n",
              "      border-bottom-color: var(--fill-color);\n",
              "    }\n",
              "  }\n",
              "</style>\n",
              "\n",
              "      <script>\n",
              "        async function quickchart(key) {\n",
              "          const quickchartButtonEl =\n",
              "            document.querySelector('#' + key + ' button');\n",
              "          quickchartButtonEl.disabled = true;  // To prevent multiple clicks.\n",
              "          quickchartButtonEl.classList.add('colab-df-spinner');\n",
              "          try {\n",
              "            const charts = await google.colab.kernel.invokeFunction(\n",
              "                'suggestCharts', [key], {});\n",
              "          } catch (error) {\n",
              "            console.error('Error during call to suggestCharts:', error);\n",
              "          }\n",
              "          quickchartButtonEl.classList.remove('colab-df-spinner');\n",
              "          quickchartButtonEl.classList.add('colab-df-quickchart-complete');\n",
              "        }\n",
              "        (() => {\n",
              "          let quickchartButtonEl =\n",
              "            document.querySelector('#df-bb9059be-cc0e-49ae-ae22-07f5e8a8a479 button');\n",
              "          quickchartButtonEl.style.display =\n",
              "            google.colab.kernel.accessAllowed ? 'block' : 'none';\n",
              "        })();\n",
              "      </script>\n",
              "    </div>\n",
              "\n",
              "    </div>\n",
              "  </div>\n"
            ],
            "application/vnd.google.colaboratory.intrinsic+json": {
              "type": "dataframe",
              "variable_name": "df",
              "summary": "{\n  \"name\": \"df\",\n  \"rows\": 484,\n  \"fields\": [\n    {\n      \"column\": \"OrderID\",\n      \"properties\": {\n        \"dtype\": \"number\",\n        \"std\": 144,\n        \"min\": 1000,\n        \"max\": 1499,\n        \"num_unique_values\": 484,\n        \"samples\": [\n          1432,\n          1490,\n          1186\n        ],\n        \"semantic_type\": \"\",\n        \"description\": \"\"\n      }\n    },\n    {\n      \"column\": \"Revenue\",\n      \"properties\": {\n        \"dtype\": \"number\",\n        \"std\": 520,\n        \"min\": 200,\n        \"max\": 2000,\n        \"num_unique_values\": 428,\n        \"samples\": [\n          1591,\n          1987,\n          1748\n        ],\n        \"semantic_type\": \"\",\n        \"description\": \"\"\n      }\n    },\n    {\n      \"column\": \"Discounts\",\n      \"properties\": {\n        \"dtype\": \"number\",\n        \"std\": 28,\n        \"min\": 0,\n        \"max\": 100,\n        \"num_unique_values\": 99,\n        \"samples\": [\n          23,\n          74,\n          18\n        ],\n        \"semantic_type\": \"\",\n        \"description\": \"\"\n      }\n    },\n    {\n      \"column\": \"Taxes\",\n      \"properties\": {\n        \"dtype\": \"number\",\n        \"std\": 54,\n        \"min\": 10,\n        \"max\": 199,\n        \"num_unique_values\": 175,\n        \"samples\": [\n          125,\n          24,\n          150\n        ],\n        \"semantic_type\": \"\",\n        \"description\": \"\"\n      }\n    },\n    {\n      \"column\": \"ProductID\",\n      \"properties\": {\n        \"dtype\": \"number\",\n        \"std\": 14,\n        \"min\": 201,\n        \"max\": 249,\n        \"num_unique_values\": 49,\n        \"samples\": [\n          235,\n          237,\n          229\n        ],\n        \"semantic_type\": \"\",\n        \"description\": \"\"\n      }\n    },\n    {\n      \"column\": \"ProductName\",\n      \"properties\": {\n        \"dtype\": \"category\",\n        \"num_unique_values\": 48,\n        \"samples\": [\n          \"Despite\",\n          \"Performance\",\n          \"Size\"\n        ],\n        \"semantic_type\": \"\",\n        \"description\": \"\"\n      }\n    },\n    {\n      \"column\": \"Category\",\n      \"properties\": {\n        \"dtype\": \"category\",\n        \"num_unique_values\": 4,\n        \"samples\": [\n          \"Home Appliances\",\n          \"Books\",\n          \"Accessories\"\n        ],\n        \"semantic_type\": \"\",\n        \"description\": \"\"\n      }\n    },\n    {\n      \"column\": \"Price\",\n      \"properties\": {\n        \"dtype\": \"number\",\n        \"std\": 121,\n        \"min\": 57,\n        \"max\": 494,\n        \"num_unique_values\": 47,\n        \"samples\": [\n          229,\n          256,\n          438\n        ],\n        \"semantic_type\": \"\",\n        \"description\": \"\"\n      }\n    },\n    {\n      \"column\": \"CustomerID\",\n      \"properties\": {\n        \"dtype\": \"number\",\n        \"std\": 14,\n        \"min\": 1,\n        \"max\": 50,\n        \"num_unique_values\": 50,\n        \"samples\": [\n          28,\n          37,\n          7\n        ],\n        \"semantic_type\": \"\",\n        \"description\": \"\"\n      }\n    },\n    {\n      \"column\": \"Name\",\n      \"properties\": {\n        \"dtype\": \"category\",\n        \"num_unique_values\": 50,\n        \"samples\": [\n          \"Bradley Huerta\",\n          \"Lori Phelps MD\",\n          \"Christine King\"\n        ],\n        \"semantic_type\": \"\",\n        \"description\": \"\"\n      }\n    },\n    {\n      \"column\": \"Region\",\n      \"properties\": {\n        \"dtype\": \"category\",\n        \"num_unique_values\": 5,\n        \"samples\": [\n          \"Central\",\n          \"East\",\n          \"South\"\n        ],\n        \"semantic_type\": \"\",\n        \"description\": \"\"\n      }\n    },\n    {\n      \"column\": \"Segment\",\n      \"properties\": {\n        \"dtype\": \"category\",\n        \"num_unique_values\": 3,\n        \"samples\": [\n          \"Wholesale\",\n          \"Retail\",\n          \"Corporate\"\n        ],\n        \"semantic_type\": \"\",\n        \"description\": \"\"\n      }\n    },\n    {\n      \"column\": \"OrderDate\",\n      \"properties\": {\n        \"dtype\": \"object\",\n        \"num_unique_values\": 357,\n        \"samples\": [\n          \"2024-02-16\",\n          \"2024-05-08\",\n          \"2023-10-19\"\n        ],\n        \"semantic_type\": \"\",\n        \"description\": \"\"\n      }\n    },\n    {\n      \"column\": \"Quantity\",\n      \"properties\": {\n        \"dtype\": \"number\",\n        \"std\": 2,\n        \"min\": 1,\n        \"max\": 10,\n        \"num_unique_values\": 10,\n        \"samples\": [\n          9,\n          8,\n          3\n        ],\n        \"semantic_type\": \"\",\n        \"description\": \"\"\n      }\n    },\n    {\n      \"column\": \"TotalAmount\",\n      \"properties\": {\n        \"dtype\": \"number\",\n        \"std\": 261,\n        \"min\": 101,\n        \"max\": 1000,\n        \"num_unique_values\": 362,\n        \"samples\": [\n          242,\n          267,\n          665\n        ],\n        \"semantic_type\": \"\",\n        \"description\": \"\"\n      }\n    }\n  ]\n}"
            }
          },
          "metadata": {},
          "execution_count": 21
        }
      ]
    },
    {
      "cell_type": "code",
      "source": [
        "df.shape"
      ],
      "metadata": {
        "colab": {
          "base_uri": "https://localhost:8080/"
        },
        "id": "ominK2dsquS-",
        "outputId": "7196e544-4c06-4d84-93af-8c54194b5301"
      },
      "execution_count": null,
      "outputs": [
        {
          "output_type": "execute_result",
          "data": {
            "text/plain": [
              "(484, 15)"
            ]
          },
          "metadata": {},
          "execution_count": 22
        }
      ]
    },
    {
      "cell_type": "markdown",
      "source": [
        "# Handle missing values."
      ],
      "metadata": {
        "id": "Pd1f3M8oqyYv"
      }
    },
    {
      "cell_type": "code",
      "source": [
        "df.isnull().sum()"
      ],
      "metadata": {
        "colab": {
          "base_uri": "https://localhost:8080/",
          "height": 554
        },
        "id": "0UlliuwIq0At",
        "outputId": "2301fc09-e754-43be-a6bb-9ec7da312af4"
      },
      "execution_count": null,
      "outputs": [
        {
          "output_type": "execute_result",
          "data": {
            "text/plain": [
              "OrderID        0\n",
              "Revenue        0\n",
              "Discounts      0\n",
              "Taxes          0\n",
              "ProductID      0\n",
              "ProductName    0\n",
              "Category       0\n",
              "Price          0\n",
              "CustomerID     0\n",
              "Name           0\n",
              "Region         0\n",
              "Segment        0\n",
              "OrderDate      0\n",
              "Quantity       0\n",
              "TotalAmount    0\n",
              "dtype: int64"
            ],
            "text/html": [
              "<div>\n",
              "<style scoped>\n",
              "    .dataframe tbody tr th:only-of-type {\n",
              "        vertical-align: middle;\n",
              "    }\n",
              "\n",
              "    .dataframe tbody tr th {\n",
              "        vertical-align: top;\n",
              "    }\n",
              "\n",
              "    .dataframe thead th {\n",
              "        text-align: right;\n",
              "    }\n",
              "</style>\n",
              "<table border=\"1\" class=\"dataframe\">\n",
              "  <thead>\n",
              "    <tr style=\"text-align: right;\">\n",
              "      <th></th>\n",
              "      <th>0</th>\n",
              "    </tr>\n",
              "  </thead>\n",
              "  <tbody>\n",
              "    <tr>\n",
              "      <th>OrderID</th>\n",
              "      <td>0</td>\n",
              "    </tr>\n",
              "    <tr>\n",
              "      <th>Revenue</th>\n",
              "      <td>0</td>\n",
              "    </tr>\n",
              "    <tr>\n",
              "      <th>Discounts</th>\n",
              "      <td>0</td>\n",
              "    </tr>\n",
              "    <tr>\n",
              "      <th>Taxes</th>\n",
              "      <td>0</td>\n",
              "    </tr>\n",
              "    <tr>\n",
              "      <th>ProductID</th>\n",
              "      <td>0</td>\n",
              "    </tr>\n",
              "    <tr>\n",
              "      <th>ProductName</th>\n",
              "      <td>0</td>\n",
              "    </tr>\n",
              "    <tr>\n",
              "      <th>Category</th>\n",
              "      <td>0</td>\n",
              "    </tr>\n",
              "    <tr>\n",
              "      <th>Price</th>\n",
              "      <td>0</td>\n",
              "    </tr>\n",
              "    <tr>\n",
              "      <th>CustomerID</th>\n",
              "      <td>0</td>\n",
              "    </tr>\n",
              "    <tr>\n",
              "      <th>Name</th>\n",
              "      <td>0</td>\n",
              "    </tr>\n",
              "    <tr>\n",
              "      <th>Region</th>\n",
              "      <td>0</td>\n",
              "    </tr>\n",
              "    <tr>\n",
              "      <th>Segment</th>\n",
              "      <td>0</td>\n",
              "    </tr>\n",
              "    <tr>\n",
              "      <th>OrderDate</th>\n",
              "      <td>0</td>\n",
              "    </tr>\n",
              "    <tr>\n",
              "      <th>Quantity</th>\n",
              "      <td>0</td>\n",
              "    </tr>\n",
              "    <tr>\n",
              "      <th>TotalAmount</th>\n",
              "      <td>0</td>\n",
              "    </tr>\n",
              "  </tbody>\n",
              "</table>\n",
              "</div><br><label><b>dtype:</b> int64</label>"
            ]
          },
          "metadata": {},
          "execution_count": 23
        }
      ]
    },
    {
      "cell_type": "markdown",
      "source": [
        "# Handling Duplicates"
      ],
      "metadata": {
        "id": "WrIIGAtBvqwj"
      }
    },
    {
      "cell_type": "code",
      "source": [
        "df.duplicated()"
      ],
      "metadata": {
        "colab": {
          "base_uri": "https://localhost:8080/",
          "height": 458
        },
        "id": "m11vUulUvt3-",
        "outputId": "8032c817-2cc2-4ac2-9280-c024d4694660"
      },
      "execution_count": null,
      "outputs": [
        {
          "output_type": "execute_result",
          "data": {
            "text/plain": [
              "0      False\n",
              "1      False\n",
              "2      False\n",
              "3      False\n",
              "4      False\n",
              "       ...  \n",
              "479    False\n",
              "480    False\n",
              "481    False\n",
              "482    False\n",
              "483    False\n",
              "Length: 484, dtype: bool"
            ],
            "text/html": [
              "<div>\n",
              "<style scoped>\n",
              "    .dataframe tbody tr th:only-of-type {\n",
              "        vertical-align: middle;\n",
              "    }\n",
              "\n",
              "    .dataframe tbody tr th {\n",
              "        vertical-align: top;\n",
              "    }\n",
              "\n",
              "    .dataframe thead th {\n",
              "        text-align: right;\n",
              "    }\n",
              "</style>\n",
              "<table border=\"1\" class=\"dataframe\">\n",
              "  <thead>\n",
              "    <tr style=\"text-align: right;\">\n",
              "      <th></th>\n",
              "      <th>0</th>\n",
              "    </tr>\n",
              "  </thead>\n",
              "  <tbody>\n",
              "    <tr>\n",
              "      <th>0</th>\n",
              "      <td>False</td>\n",
              "    </tr>\n",
              "    <tr>\n",
              "      <th>1</th>\n",
              "      <td>False</td>\n",
              "    </tr>\n",
              "    <tr>\n",
              "      <th>2</th>\n",
              "      <td>False</td>\n",
              "    </tr>\n",
              "    <tr>\n",
              "      <th>3</th>\n",
              "      <td>False</td>\n",
              "    </tr>\n",
              "    <tr>\n",
              "      <th>4</th>\n",
              "      <td>False</td>\n",
              "    </tr>\n",
              "    <tr>\n",
              "      <th>...</th>\n",
              "      <td>...</td>\n",
              "    </tr>\n",
              "    <tr>\n",
              "      <th>479</th>\n",
              "      <td>False</td>\n",
              "    </tr>\n",
              "    <tr>\n",
              "      <th>480</th>\n",
              "      <td>False</td>\n",
              "    </tr>\n",
              "    <tr>\n",
              "      <th>481</th>\n",
              "      <td>False</td>\n",
              "    </tr>\n",
              "    <tr>\n",
              "      <th>482</th>\n",
              "      <td>False</td>\n",
              "    </tr>\n",
              "    <tr>\n",
              "      <th>483</th>\n",
              "      <td>False</td>\n",
              "    </tr>\n",
              "  </tbody>\n",
              "</table>\n",
              "<p>484 rows × 1 columns</p>\n",
              "</div><br><label><b>dtype:</b> bool</label>"
            ]
          },
          "metadata": {},
          "execution_count": 38
        }
      ]
    },
    {
      "cell_type": "markdown",
      "source": [
        "# Exploring data"
      ],
      "metadata": {
        "id": "Uge34Mo-q6Wt"
      }
    },
    {
      "cell_type": "code",
      "source": [
        "unique_categories=df[\"Category\"].unique()\n",
        "print(unique_categories)"
      ],
      "metadata": {
        "colab": {
          "base_uri": "https://localhost:8080/"
        },
        "id": "DU7vwW9erB3w",
        "outputId": "e5e9eb88-5ce3-4282-9abb-c67e9158a45e"
      },
      "execution_count": null,
      "outputs": [
        {
          "output_type": "stream",
          "name": "stdout",
          "text": [
            "['Accessories' 'Home Appliances' 'Electronics' 'Books']\n"
          ]
        }
      ]
    },
    {
      "cell_type": "code",
      "source": [
        "unique_categories=df[\"ProductName\"].unique()\n",
        "print(unique_categories)"
      ],
      "metadata": {
        "colab": {
          "base_uri": "https://localhost:8080/"
        },
        "id": "rT2klXl_rGyp",
        "outputId": "c67022ab-0e37-43b0-c55d-d11f45b3d8a1"
      },
      "execution_count": null,
      "outputs": [
        {
          "output_type": "stream",
          "name": "stdout",
          "text": [
            "['Mind' 'Suffer' 'Role' 'North' 'Both' 'Dog' 'Care' 'Happen' 'Maybe'\n",
            " 'Heavy' 'Explain' 'Card' 'Nor' 'Level' 'Pull' 'System' 'Your' 'Present'\n",
            " 'Just' 'Story' 'Catch' 'Answer' 'Shake' 'Into' 'Protect' 'Notice' 'Size'\n",
            " 'Despite' 'Gun' 'Dream' 'Friend' 'Price' 'Hope' 'Available' 'Like' 'We'\n",
            " 'Guess' 'Process' 'Argue' 'Skill' 'Performance' 'Enter' 'Truth'\n",
            " 'Responsibility' 'Behavior' 'Guy' 'Voice' 'Dinner']\n"
          ]
        }
      ]
    },
    {
      "cell_type": "markdown",
      "source": [
        "# 4. Basic Data Visualization"
      ],
      "metadata": {
        "id": "KdhssgwfrKZd"
      }
    },
    {
      "cell_type": "code",
      "source": [
        "print(data1.columns)"
      ],
      "metadata": {
        "colab": {
          "base_uri": "https://localhost:8080/"
        },
        "id": "9tvmbe9SrYJh",
        "outputId": "02309c0f-ba77-41cd-c2ac-0cb001ad9755"
      },
      "execution_count": null,
      "outputs": [
        {
          "output_type": "stream",
          "name": "stdout",
          "text": [
            "Index(['Month', 'TotalRevenue'], dtype='object')\n"
          ]
        }
      ]
    },
    {
      "cell_type": "markdown",
      "source": [
        "# 1. Per  month Sales"
      ],
      "metadata": {
        "id": "UNCe0Y_xsGLi"
      }
    },
    {
      "cell_type": "code",
      "source": [
        "plt.figure(figsize=(14, 4))\n",
        "sns.lineplot(data=data1, x=\"Month\", y=\"TotalRevenue\", marker=\"o\", linewidth=2.5)\n",
        "\n",
        "plt.title(\"Monthly Sales Revenue\", fontsize=16)\n",
        "plt.xlabel(\"Month\")\n",
        "plt.ylabel(\"Total Revenue\")\n",
        "plt.xticks(rotation=45)\n",
        "plt.tight_layout()\n",
        "plt.show()\n",
        "\n"
      ],
      "metadata": {
        "colab": {
          "base_uri": "https://localhost:8080/",
          "height": 342
        },
        "id": "6BDIX7T3sFkh",
        "outputId": "f42fec47-3924-463b-e1d3-ca0b3dd2e7b1"
      },
      "execution_count": null,
      "outputs": [
        {
          "output_type": "display_data",
          "data": {
            "text/plain": [
              "<Figure size 1400x400 with 1 Axes>"
            ],
            "image/png": "[encoded data removed]"
          },
          "metadata": {}
        }
      ]
    },
    {
      "cell_type": "markdown",
      "source": [
        "# 2. Top Selling Products"
      ],
      "metadata": {
        "id": "ds8lbk3hsKF6"
      }
    },
    {
      "cell_type": "code",
      "source": [
        "print(data2.columns)"
      ],
      "metadata": {
        "colab": {
          "base_uri": "https://localhost:8080/"
        },
        "id": "-Yfac1bBwr0j",
        "outputId": "09a1877e-1671-4d21-c7d6-358c400ea9b3"
      },
      "execution_count": null,
      "outputs": [
        {
          "output_type": "stream",
          "name": "stdout",
          "text": [
            "Index(['ProductName', 'TopBestSellingProduct'], dtype='object')\n"
          ]
        }
      ]
    },
    {
      "cell_type": "code",
      "source": [
        "plt.figure(figsize=(6,6))\n",
        "plt.pie(data2[\"TopBestSellingProduct\"], labels=data2[\"ProductName\"], autopct=\"%1.1f%%\", startangle=180)\n",
        "plt.title(\"Top 5 Best-Selling Products by Revenue\")\n",
        "plt.show()"
      ],
      "metadata": {
        "colab": {
          "base_uri": "https://localhost:8080/",
          "height": 521
        },
        "id": "miWdEKIcs944",
        "outputId": "f1f9a49c-51a7-4200-fd8d-4ae72243479f"
      },
      "execution_count": null,
      "outputs": [
        {
          "output_type": "display_data",
          "data": {
            "text/plain": [
              "<Figure size 600x600 with 1 Axes>"
            ],
            "image/png": "[encoded data removed]"
          },
          "metadata": {}
        }
      ]
    },
    {
      "cell_type": "markdown",
      "source": [
        "# 3. Revenue by Customer segment"
      ],
      "metadata": {
        "id": "o_twos8iyfJz"
      }
    },
    {
      "cell_type": "code",
      "source": [
        "print(data3.columns)\n"
      ],
      "metadata": {
        "colab": {
          "base_uri": "https://localhost:8080/"
        },
        "id": "cBq697Qey9ET",
        "outputId": "b3d84935-a826-41b1-8161-53a3a9b6cb54"
      },
      "execution_count": null,
      "outputs": [
        {
          "output_type": "stream",
          "name": "stdout",
          "text": [
            "Index(['Segment', 'RevenueContribution'], dtype='object')\n"
          ]
        }
      ]
    },
    {
      "cell_type": "code",
      "source": [
        "plt.figure(figsize=(8, 4))\n",
        "sns.barplot(x=\"Segment\", y=\"RevenueContribution\", data=data3, hue=\"Segment\")\n",
        "plt.title(\"Revenue Contribution by Customer Segment\")\n",
        "plt.ylabel(\"Revenue\")\n",
        "plt.xlabel(\"Customer Segment\")\n",
        "plt.tight_layout()\n",
        "plt.show()"
      ],
      "metadata": {
        "colab": {
          "base_uri": "https://localhost:8080/",
          "height": 407
        },
        "id": "4iUd4m0SygEk",
        "outputId": "616c9ba7-ad27-4e42-c272-057e3f4dabab"
      },
      "execution_count": null,
      "outputs": [
        {
          "output_type": "display_data",
          "data": {
            "text/plain": [
              "<Figure size 800x400 with 1 Axes>"
            ],
            "image/png": "[encoded data removed]"
          },
          "metadata": {}
        }
      ]
    },
    {
      "cell_type": "markdown",
      "source": [
        "# 4. Revenue by Region"
      ],
      "metadata": {
        "id": "PTsRVQ4hzS4r"
      }
    },
    {
      "cell_type": "code",
      "source": [
        "# Bar plot showing revenue contribution by region\n",
        "plt.figure(figsize=(8, 4))\n",
        "sns.barplot(x=\"Region\", y=\"TotalRevenue\", data=data4, color=\"green\")\n",
        "\n",
        "# Add plot title and axis labels\n",
        "plt.title(\"Revenue Contribution by Region\", fontsize=14)\n",
        "plt.xlabel(\"Region\", fontsize=12)\n",
        "plt.ylabel(\"Total Revenue\", fontsize=12)\n",
        "\n",
        "# Improve layout\n",
        "plt.tight_layout()\n",
        "plt.show()\n"
      ],
      "metadata": {
        "colab": {
          "base_uri": "https://localhost:8080/",
          "height": 407
        },
        "id": "hvLFXQZczTli",
        "outputId": "3f44ca66-38a4-45d3-da2a-d9ffef5bef76"
      },
      "execution_count": null,
      "outputs": [
        {
          "output_type": "display_data",
          "data": {
            "text/plain": [
              "<Figure size 800x400 with 1 Axes>"
            ],
            "image/png": "[encoded data removed]"
          },
          "metadata": {}
        }
      ]
    },
    {
      "cell_type": "markdown",
      "source": [
        "# 5. HIghest Quantity ordered on which data by which customer"
      ],
      "metadata": {
        "id": "Cw7AXj9EztRY"
      }
    },
    {
      "cell_type": "code",
      "source": [
        "df.loc[df[\"Quantity\"].idxmax(),[\"OrderDate\",\"Name\",\"Quantity\"]]"
      ],
      "metadata": {
        "colab": {
          "base_uri": "https://localhost:8080/",
          "height": 178
        },
        "id": "-XotX3pPz2Ig",
        "outputId": "b7b88c92-fefd-44ba-adf0-e26180797810"
      },
      "execution_count": null,
      "outputs": [
        {
          "output_type": "execute_result",
          "data": {
            "text/plain": [
              "OrderDate    2022-12-18\n",
              "Name         Randy Duke\n",
              "Quantity             10\n",
              "Name: 3, dtype: object"
            ],
            "text/html": [
              "<div>\n",
              "<style scoped>\n",
              "    .dataframe tbody tr th:only-of-type {\n",
              "        vertical-align: middle;\n",
              "    }\n",
              "\n",
              "    .dataframe tbody tr th {\n",
              "        vertical-align: top;\n",
              "    }\n",
              "\n",
              "    .dataframe thead th {\n",
              "        text-align: right;\n",
              "    }\n",
              "</style>\n",
              "<table border=\"1\" class=\"dataframe\">\n",
              "  <thead>\n",
              "    <tr style=\"text-align: right;\">\n",
              "      <th></th>\n",
              "      <th>3</th>\n",
              "    </tr>\n",
              "  </thead>\n",
              "  <tbody>\n",
              "    <tr>\n",
              "      <th>OrderDate</th>\n",
              "      <td>2022-12-18</td>\n",
              "    </tr>\n",
              "    <tr>\n",
              "      <th>Name</th>\n",
              "      <td>Randy Duke</td>\n",
              "    </tr>\n",
              "    <tr>\n",
              "      <th>Quantity</th>\n",
              "      <td>10</td>\n",
              "    </tr>\n",
              "  </tbody>\n",
              "</table>\n",
              "</div><br><label><b>dtype:</b> object</label>"
            ]
          },
          "metadata": {},
          "execution_count": 33
        }
      ]
    },
    {
      "cell_type": "markdown",
      "source": [
        "# 6. Highest Tax by Category"
      ],
      "metadata": {
        "id": "KtyZkvI0z_h1"
      }
    },
    {
      "cell_type": "code",
      "source": [
        "# Calculate total taxes by category\n",
        "highest_tax_by_category = df.groupby(\"Category\")[\"Taxes\"].sum().reset_index()\n",
        "\n",
        "# Create a bar plot for highest tax contribution by category\n",
        "plt.figure(figsize=(8, 4))\n",
        "sns.barplot(x=\"Category\", y=\"Taxes\", data=highest_tax_by_category, palette=\"viridis\")\n",
        "\n",
        "# Add title and axis labels\n",
        "plt.title(\"Highest Tax Contribution by Category\", fontsize=14)\n",
        "plt.xlabel(\"Category\", fontsize=12)\n",
        "plt.ylabel(\"Total Taxes\", fontsize=12)\n",
        "\n",
        "# Improve layout\n",
        "plt.tight_layout()\n",
        "plt.show()\n"
      ],
      "metadata": {
        "colab": {
          "base_uri": "https://localhost:8080/",
          "height": 514
        },
        "id": "rLOdwgbW0A6y",
        "outputId": "bab7864b-bec2-4d3e-83a0-047aa54983c9"
      },
      "execution_count": null,
      "outputs": [
        {
          "output_type": "stream",
          "name": "stderr",
          "text": [
            "<ipython-input-34-45c7299b720b>:6: FutureWarning: \n",
            "\n",
            "Passing `palette` without assigning `hue` is deprecated and will be removed in v0.14.0. Assign the `x` variable to `hue` and set `legend=False` for the same effect.\n",
            "\n",
            "  sns.barplot(x=\"Category\", y=\"Taxes\", data=highest_tax_by_category, palette=\"viridis\")\n"
          ]
        },
        {
          "output_type": "display_data",
          "data": {
            "text/plain": [
              "<Figure size 800x400 with 1 Axes>"
            ],
            "image/png": "[encoded data removed]"
          },
          "metadata": {}
        }
      ]
    },
    {
      "cell_type": "markdown",
      "source": [
        "# 7. Highest Taxes paid by customer Segement"
      ],
      "metadata": {
        "id": "fuHy2H_T0d78"
      }
    },
    {
      "cell_type": "code",
      "source": [
        "# Calculate total taxes paid by each segment\n",
        "highest_tax_by_Segment = df.groupby(\"Segment\")[\"Taxes\"].sum().reset_index()\n",
        "\n",
        "# Plot pie chart\n",
        "plt.figure(figsize=(6, 6))\n",
        "plt.pie(\n",
        "    highest_tax_by_Segment[\"Taxes\"],\n",
        "    labels=highest_tax_by_Segment[\"Segment\"],\n",
        "    autopct=\"%1.1f%%\",\n",
        "    startangle=180,\n",
        "    colors=sns.color_palette(\"pastel\")\n",
        ")\n",
        "plt.title(\"Highest Taxes Paid by Customer Segment\", fontsize=14)\n",
        "plt.tight_layout()\n",
        "plt.show()\n"
      ],
      "metadata": {
        "colab": {
          "base_uri": "https://localhost:8080/",
          "height": 607
        },
        "id": "skJlQenw0ef_",
        "outputId": "993b2c05-8855-4bb6-a9ff-3f4d7ad1cd93"
      },
      "execution_count": null,
      "outputs": [
        {
          "output_type": "display_data",
          "data": {
            "text/plain": [
              "<Figure size 600x600 with 1 Axes>"
            ],
            "image/png": "[encoded data removed]"
          },
          "metadata": {}
        }
      ]
    },
    {
      "cell_type": "markdown",
      "source": [
        "8. Highest Tax by Region"
      ],
      "metadata": {
        "id": "1lI8Ai-I07GB"
      }
    },
    {
      "cell_type": "code",
      "source": [
        "highest_tax_by_Region=df.groupby(\"Region\")[\"Taxes\"].sum().reset_index()\n",
        "plt.figure(figsize=(6,6))\n",
        "plt.pie(highest_tax_by_Region[\"Taxes\"],labels=highest_tax_by_Region[\"Region\"],autopct=\"%1.1f%%\",startangle=180)\n",
        "plt.title(\"highest Taxes paid by Region\")\n",
        "plt.show()"
      ],
      "metadata": {
        "colab": {
          "base_uri": "https://localhost:8080/",
          "height": 521
        },
        "id": "OV_eAHXs0714",
        "outputId": "48b6c9e8-d3f0-4a15-b5e5-81b645de08de"
      },
      "execution_count": null,
      "outputs": [
        {
          "output_type": "display_data",
          "data": {
            "text/plain": [
              "<Figure size 600x600 with 1 Axes>"
            ],
            "image/png": "[encoded data removed]"
          },
          "metadata": {}
        }
      ]
    }
  ]
}